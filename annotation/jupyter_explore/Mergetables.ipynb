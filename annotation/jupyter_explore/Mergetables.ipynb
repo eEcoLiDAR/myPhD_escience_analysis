{
 "cells": [
  {
   "cell_type": "code",
   "execution_count": 1,
   "metadata": {
    "collapsed": true
   },
   "outputs": [],
   "source": [
    "import pandas as pd\n",
    "import numpy as np"
   ]
  },
  {
   "cell_type": "code",
   "execution_count": 2,
   "metadata": {},
   "outputs": [
    {
     "data": {
      "text/plain": [
       "speciesKey          int64\nspecies            object\nkingdom            object\nphylum             object\nclass              object\norder              object\nfamily             object\ngenus              object\nspecificEpithet    object\nvernacularName     object\ndtype: object"
      ]
     },
     "execution_count": 2,
     "metadata": {},
     "output_type": "execute_result"
    }
   ],
   "source": [
    "filepath=\"C:\\\\zsofia\\\\Amsterdam\\\\Work\\\\Teaching\\\\KZs_BiodiversityandGlobalChange\\\\GBIF_Data\\\\step2\\\\\"\n",
    "\n",
    "sp1985_1989=pd.read_csv(filepath+'1985_1989NLSpeciesTable.csv',sep=';',encoding='latin-1')\n",
    "sp1990_1994=pd.read_csv(filepath+'1990_1994NLSpeciesTable.csv',sep=';',encoding='latin-1')\n",
    "sp1995_1999=pd.read_csv(filepath+'1995_1999NLSpeciesTable.csv',sep=';',encoding='latin-1')\n",
    "sp2000_2004=pd.read_csv(filepath+'2000_2004NLSpeciesTable.csv',sep=';',encoding='latin-1')\n",
    "sp2005_2009=pd.read_csv(filepath+'2005_2009NLSpeciesTable.csv',sep=';',encoding='latin-1')\n",
    "sp2010_2017=pd.read_csv(filepath+'2010_2017NLSpeciesTable.csv',sep=';',encoding='latin-1')\n",
    "\n",
    "sp1985_1989.dtypes"
   ]
  },
  {
   "cell_type": "code",
   "execution_count": 3,
   "metadata": {},
   "outputs": [
    {
     "name": "stdout",
     "output_type": "stream",
     "text": [
      "(1900,)\n(1900, 10)\n"
     ]
    }
   ],
   "source": [
    "frames = [sp1985_1989, sp1990_1994, sp1995_1999,sp2000_2004,sp2005_2009,sp2010_2017]\n",
    "mergedspeciestable = pd.concat(frames)\n",
    "\n",
    "print(pd.unique(mergedspeciestable['speciesKey'].values).shape)\n",
    "\n",
    "speciestable=mergedspeciestable.groupby('speciesKey').first().reset_index()\n",
    "\n",
    "print(speciestable.shape)\n",
    "\n",
    "speciestable.to_csv(filepath+'speciestable.csv',sep=\";\",index=False)"
   ]
  },
  {
   "cell_type": "code",
   "execution_count": 41,
   "metadata": {},
   "outputs": [
    {
     "data": {
      "text/plain": [
       "14183"
      ]
     },
     "execution_count": 41,
     "metadata": {},
     "output_type": "execute_result"
    }
   ],
   "source": [
    "pl1985_1989=pd.read_csv(filepath+'1985_1989NLPlotTable.csv',sep=';',encoding='latin-1')\n",
    "pl1990_1994=pd.read_csv(filepath+'1990_1994NLPlotTable.csv',sep=';',encoding='latin-1')\n",
    "pl1995_1999=pd.read_csv(filepath+'1995_1999NLPlotTable.csv',sep=';',encoding='latin-1')\n",
    "pl2000_2004=pd.read_csv(filepath+'2000_2004NLPlotTable.csv',sep=';',encoding='latin-1')\n",
    "pl2005_2009=pd.read_csv(filepath+'2005_2009NLPlotTable.csv',sep=';',encoding='latin-1')\n",
    "pl2010_2017=pd.read_csv(filepath+'2010_2017NLPlotTable.csv',sep=';',encoding='latin-1')\n",
    "\n",
    "pl1985_1989.shape[0]"
   ]
  },
  {
   "cell_type": "code",
   "execution_count": 59,
   "metadata": {},
   "outputs": [
    {
     "name": "stdout",
     "output_type": "stream",
     "text": [
      "(117427,)\n(117427, 10)\n"
     ]
    },
    {
     "name": "stdout",
     "output_type": "stream",
     "text": [
      "footprintWKT                      object\npolygonID                          int64\ndecimalLatitude                  float64\ndecimalLongitude                 float64\ncoordinateUncertaintyInMeters    float64\nhabitat                           object\nsamplingProtocol                  object\nsampleSizeValue                  float64\nsampleSizeUnit                    object\npolyarea                         float64\ndtype: object\n"
     ]
    },
    {
     "data": {
      "text/plain": [
       "footprintWKT                      object\npolygonID                          int64\ndecimalLatitude                  float64\ndecimalLongitude                 float64\ncoordinateUncertaintyInMeters    float64\nhabitat                           object\nsamplingProtocol                  object\nsampleSizeValue                  float64\nsampleSizeUnit                    object\npolyarea                         float64\ndtype: object"
      ]
     },
     "execution_count": 59,
     "metadata": {},
     "output_type": "execute_result"
    }
   ],
   "source": [
    "pl1985_1989['polygonID']=pl1985_1989['polygonID']\n",
    "pl1990_1994['polygonID']=pl1990_1994['polygonID']+pl1985_1989['polygonID'].shape[0]+1\n",
    "pl1995_1999['polygonID']=pl1995_1999['polygonID']+pl1990_1994['polygonID'].shape[0]+pl1985_1989['polygonID'].shape[0]+1\n",
    "pl2000_2004['polygonID']=pl2000_2004['polygonID']+pl1995_1999['polygonID'].shape[0]+pl1990_1994['polygonID'].shape[0]+pl1985_1989['polygonID'].shape[0]+1\n",
    "pl2005_2009['polygonID']=pl2005_2009['polygonID']+pl2000_2004['polygonID'].shape[0]+pl1995_1999['polygonID'].shape[0]+pl1990_1994['polygonID'].shape[0]+pl1985_1989['polygonID'].shape[0]+1\n",
    "pl2010_2017['polygonID']=pl2010_2017['polygonID']+pl2005_2009['polygonID'].shape[0]+pl2000_2004['polygonID'].shape[0]+pl1995_1999['polygonID'].shape[0]+pl1990_1994['polygonID'].shape[0]+pl1985_1989['polygonID'].shape[0]+111\n",
    "\n",
    "#print(pl2010_2017['polygonID'])\n",
    "\n",
    "frames = [pl1985_1989, pl1990_1994, pl1995_1999,pl2000_2004,pl2005_2009,pl2010_2017]\n",
    "mergedplottable = pd.concat(frames)\n",
    "\n",
    "print(pd.unique(mergedplottable['polygonID'].values).shape)\n",
    "print(mergedplottable.shape)\n",
    "\n",
    "plottable=mergedplottable.groupby('footprintWKT').first().reset_index()\n",
    "\n",
    "print(plottable.dtypes)\n",
    "\n",
    "plottable.to_csv(filepath+'plottable.csv',sep=\";\",index=False)\n",
    "\n",
    "plottable.dtypes"
   ]
  },
  {
   "cell_type": "code",
   "execution_count": 55,
   "metadata": {},
   "outputs": [
    {
     "name": "stdout",
     "output_type": "stream",
     "text": [
      "2659869\n(2659869, 9)\n"
     ]
    }
   ],
   "source": [
    "ob1985_1989=pd.read_csv(filepath+'1985_1989NLObservationTable.csv',sep=';',encoding='latin-1')\n",
    "ob1990_1994=pd.read_csv(filepath+'1990_1994NLObservationTable.csv',sep=';',encoding='latin-1')\n",
    "ob1995_1999=pd.read_csv(filepath+'1995_1999NLObservationTable.csv',sep=';',encoding='latin-1')\n",
    "ob2000_2004=pd.read_csv(filepath+'2000_2004NLObservationTable.csv',sep=';',encoding='latin-1')\n",
    "ob2005_2009=pd.read_csv(filepath+'2005_2009NLObservationTable.csv',sep=';',encoding='latin-1')\n",
    "ob2010_2017=pd.read_csv(filepath+'2010_2017NLObservationTable.csv',sep=';',encoding='latin-1')\n",
    "\n",
    "ob1985_1989['polygonID']=ob1985_1989['polygonID']\n",
    "ob1990_1994['polygonID']=ob1990_1994['polygonID']+ob1985_1989['polygonID'].shape[0]+1\n",
    "ob1995_1999['polygonID']=ob1995_1999['polygonID']+ob1990_1994['polygonID'].shape[0]+ob1985_1989['polygonID'].shape[0]+1\n",
    "ob2000_2004['polygonID']=ob2000_2004['polygonID']+ob1995_1999['polygonID'].shape[0]+ob1990_1994['polygonID'].shape[0]+ob1985_1989['polygonID'].shape[0]+1\n",
    "ob2005_2009['polygonID']=ob2005_2009['polygonID']+ob2000_2004['polygonID'].shape[0]+ob1995_1999['polygonID'].shape[0]+ob1990_1994['polygonID'].shape[0]+ob1985_1989['polygonID'].shape[0]+1\n",
    "ob2010_2017['polygonID']=ob2010_2017['polygonID']+ob2005_2009['polygonID'].shape[0]+ob2000_2004['polygonID'].shape[0]+ob1995_1999['polygonID'].shape[0]+ob1990_1994['polygonID'].shape[0]+ob1985_1989['polygonID'].shape[0]+1\n",
    "\n",
    "frames = [ob1985_1989, ob1990_1994, ob1995_1999,ob2000_2004,ob2005_2009,ob2010_2017]\n",
    "mergedobstable = pd.concat(frames)\n",
    "\n",
    "print(ob2010_2017['polygonID'].shape[0]+ob2005_2009['polygonID'].shape[0]+ob2000_2004['polygonID'].shape[0]+ob1995_1999['polygonID'].shape[0]+ob1990_1994['polygonID'].shape[0]+ob1985_1989['polygonID'].shape[0])\n",
    "print(mergedobstable.shape)\n",
    "\n",
    "mergedobstable.to_csv(filepath+'observationtable.csv',sep=\";\",index=False)"
   ]
  },
  {
   "cell_type": "code",
   "execution_count": null,
   "metadata": {},
   "outputs": [],
   "source": []
  }
 ],
 "metadata": {
  "kernelspec": {
   "display_name": "Python 2",
   "language": "python",
   "name": "python2"
  },
  "language_info": {
   "codemirror_mode": {
    "name": "ipython",
    "version": 2
   },
   "file_extension": ".py",
   "mimetype": "text/x-python",
   "name": "python",
   "nbconvert_exporter": "python",
   "pygments_lexer": "ipython2",
   "version": "2.7.6"
  }
 },
 "nbformat": 4,
 "nbformat_minor": 0
}
