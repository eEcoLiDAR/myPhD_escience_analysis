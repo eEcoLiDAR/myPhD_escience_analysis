{
 "cells": [
  {
   "cell_type": "code",
   "execution_count": 123,
   "metadata": {
    "collapsed": true
   },
   "outputs": [],
   "source": [
    "import pandas as pd\n",
    "import numpy as np\n",
    "\n",
    "filepath=\"D:\\\\GitHub\\\\eEcoLiDAR\\\\Annotation\\\\Data\\\\\"\n",
    "\n",
    "speciestable=pd.read_csv(filepath+'speciestable.csv',sep=';',encoding='latin-1')\n",
    "plottable=pd.read_csv(filepath+'plottable.csv',sep=';',encoding='latin-1')\n",
    "observationtable=pd.read_csv(filepath+'observationtable.csv',sep=';',encoding='latin-1')"
   ]
  },
  {
   "cell_type": "markdown",
   "metadata": {},
   "source": [
    "Extract table for Daniel for tree species selection (into excel)\n",
    "- all data"
   ]
  },
  {
   "cell_type": "code",
   "execution_count": 125,
   "metadata": {},
   "outputs": [],
   "source": [
    "speciestable.to_excel(filepath+'SpeciesTableOriginal.xlsx',encoding='latin-1',index=False)"
   ]
  },
  {
   "cell_type": "markdown",
   "metadata": {},
   "source": [
    "Filter the polygons between 2007 and 2015 -- AHN2 was measured between 2008-2012"
   ]
  },
  {
   "cell_type": "code",
   "execution_count": 126,
   "metadata": {},
   "outputs": [],
   "source": [
    "observationtable_up2007=observationtable[(observationtable[\"year\"]>2007)]"
   ]
  },
  {
   "cell_type": "markdown",
   "metadata": {},
   "source": [
    "Join: observation table to plottable"
   ]
  },
  {
   "cell_type": "code",
   "execution_count": 127,
   "metadata": {},
   "outputs": [],
   "source": [
    "joined_obsplot=pd.merge(observationtable_up2007, plottable, on='polygonID', how='left')\n",
    "joined_obsplot = joined_obsplot[list(joined_obsplot.columns[~joined_obsplot.columns.duplicated()])]\n",
    "joined_obsplot_forest=joined_obsplot[(joined_obsplot[\"habitat\"]==\"Forest\")]"
   ]
  },
  {
   "cell_type": "markdown",
   "metadata": {},
   "source": [
    "Extract table for Daniel for tree species selection (into excel)\n",
    "- just for forest"
   ]
  },
  {
   "cell_type": "code",
   "execution_count": 141,
   "metadata": {},
   "outputs": [],
   "source": [
    "SpeciesTable_OnlyForest_from2007=pd.merge(joined_obsplot_forest, speciestable, on='speciesKey', how='left')\n",
    "SpeciesTable_OnlyForest_from2007=SpeciesTable_OnlyForest_from2007[['species','kingdom','phylum','class','order','family','genus','specificEpithet',\n",
    "                                                                   'vernacularName ']]\n",
    "SpeciesTable_OnlyForest_from2007=SpeciesTable_OnlyForest_from2007.groupby('species').first().reset_index()\n",
    "\n",
    "SpeciesTable_OnlyForest_from2007.to_excel(filepath+'SpeciesTableJustForestFrom2007.xlsx',encoding='latin-1',index=False)"
   ]
  },
  {
   "cell_type": "markdown",
   "metadata": {},
   "source": [
    "Groupby : polygonID, number of observed species,maximum of organismquantity"
   ]
  },
  {
   "cell_type": "code",
   "execution_count": 104,
   "metadata": {},
   "outputs": [],
   "source": [
    "agghow={'speciesKey':['count','first'], 'organismQuantity':['max']}\n",
    "groupby=joined_obsplot_forest.sort_values('organismQuantity', ascending=False).groupby('polygonID').agg(agghow).reset_index()\n",
    "\n",
    "groupby.to_csv(filepath+'forInfoBSc.csv',sep=\";\",index=False)"
   ]
  },
  {
   "cell_type": "code",
   "execution_count": 120,
   "metadata": {},
   "outputs": [
    {
     "data": {
      "text/plain": [
       "polygonID              int64\nnofspecies             int64\nspeciesKey             int64\nmaxorganismQuantity    int64\ndtype: object"
      ]
     },
     "execution_count": 120,
     "metadata": {},
     "output_type": "execute_result"
    }
   ],
   "source": [
    "GroupbyForinfoBScTable=pd.read_csv(filepath+'forInfoBSc.csv',sep=';',encoding='latin-1')\n",
    "GroupbyForinfoBScTable.dtypes"
   ]
  },
  {
   "cell_type": "code",
   "execution_count": 122,
   "metadata": {},
   "outputs": [],
   "source": [
    "ForInfoBSc_joinedcoordinates=pd.merge(GroupbyForinfoBScTable, plottable[['polygonID','footprintWKT']], on='polygonID', how='left')\n",
    "\n",
    "ForInfoBSc_JoinedCoordinates_DomTax=pd.merge(ForInfoBSc_joinedcoordinates, speciestable, on='speciesKey', how='left')\n",
    "\n",
    "ForInfoBSc_JoinedCoordinates_DomTax=ForInfoBSc_JoinedCoordinates_DomTax[(ForInfoBSc_JoinedCoordinates_DomTax[\"maxorganismQuantity\"]>50)]\n",
    "\n",
    "ForInfoBSc_JoinedCoordinates_DomTax.to_csv(filepath+'ForInfoBSc_JoinedCoordinates.csv',sep=\";\",index=False)"
   ]
  },
  {
   "cell_type": "code",
   "execution_count": null,
   "metadata": {},
   "outputs": [],
   "source": []
  }
 ],
 "metadata": {
  "kernelspec": {
   "display_name": "Python 2",
   "language": "python",
   "name": "python2"
  },
  "language_info": {
   "codemirror_mode": {
    "name": "ipython",
    "version": 2
   },
   "file_extension": ".py",
   "mimetype": "text/x-python",
   "name": "python",
   "nbconvert_exporter": "python",
   "pygments_lexer": "ipython2",
   "version": "2.7.6"
  }
 },
 "nbformat": 4,
 "nbformat_minor": 0
}
