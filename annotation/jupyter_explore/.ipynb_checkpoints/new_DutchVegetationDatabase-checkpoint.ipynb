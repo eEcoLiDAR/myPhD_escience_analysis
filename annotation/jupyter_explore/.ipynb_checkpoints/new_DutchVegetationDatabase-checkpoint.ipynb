{
 "cells": [
  {
   "cell_type": "markdown",
   "metadata": {
    "collapsed": true
   },
   "source": []
  },
  {
   "cell_type": "markdown",
   "metadata": {},
   "source": [
    "Import data"
   ]
  },
  {
   "cell_type": "code",
   "execution_count": 10,
   "metadata": {},
   "outputs": [
    {
     "name": "stdout",
     "output_type": "stream",
     "text": [
      "PlotObservationID                   int64\n",
      "PlotID                              int64\n",
      "Bedekkingsschaal                   object\n",
      "Datum van opname                   object\n",
      "Lengte proefvlak (m)              float64\n",
      "Breedte proefvlak (m)             float64\n",
      "Opp. proefvlak (m²)               float64\n",
      "Bedekking totaal (%)              float64\n",
      "Bedekking boomlaag (%)            float64\n",
      "Bedekking struiklaag (%)          float64\n",
      "Bedekking kruidlaag (%)           float64\n",
      "Bedekking moslaag (%)             float64\n",
      "Hoogte (hoge) boomlaag (m)        float64\n",
      "Hoogte lage boomlaag (m)          float64\n",
      "Hoogte (hoge) struiklaag (m)      float64\n",
      "Hoogte lage struiklaag (m)        float64\n",
      "Gem. hoogte (hoge) kruidl (cm)    float64\n",
      "Gem. hoogte lage kruidl. (cm)     float64\n",
      "Maximale hoogte kruidlaag (cm)    float64\n",
      "Associa (1)                        object\n",
      "Incompleteness (1)                float64\n",
      "Longitude                         float64\n",
      "Latitude                          float64\n",
      "Location uncertainty (m)            int64\n",
      "Dataset                            object\n",
      "dtype: object\n",
      "-----------------\n",
      "PlotObservationID      int64\n",
      "Species name          object\n",
      "Layer                  int64\n",
      "Cover %              float64\n",
      "Cover code            object\n",
      "Taxon ID               int64\n",
      "dtype: object\n"
     ]
    }
   ],
   "source": [
    "import pandas as pd\n",
    "\n",
    "filepath=\"C:\\\\zsofia\\\\Amsterdam\\\\GitHub\\\\eEcoLiDAR\\\\Annotation\\\\Data\\\\\"\n",
    "\n",
    "header=pd.read_csv(filepath+'Phragmites_australis_header.csv',sep='\\t')\n",
    "species=pd.read_csv(filepath+'Phragmites_australis_species.csv',sep='\\t')\n",
    "\n",
    "print(header.dtypes)\n",
    "print(\"-----------------\")\n",
    "print(species.dtypes)"
   ]
  },
  {
   "cell_type": "code",
   "execution_count": 13,
   "metadata": {},
   "outputs": [
    {
     "name": "stdout",
     "output_type": "stream",
     "text": [
      "   PlotObservationID  PlotID        Bedekkingsschaal Datum van opname  \\\n",
      "0                192     192  Braun/Blanquet (B,D&S)         2-9-1996   \n",
      "1                196     196  Braun/Blanquet (B,D&S)         7-8-1996   \n",
      "2                233     233  Braun/Blanquet (B,D&S)         9-9-1996   \n",
      "3                580     580  Braun/Blanquet (B,D&S)         8-9-1997   \n",
      "4                596     596  Braun/Blanquet (B,D&S)         9-9-1997   \n",
      "5                728     728  Braun/Blanquet (B,D&S)        15-8-1997   \n",
      "6                929     929  Braun/Blanquet (B,D&S)        15-8-1991   \n",
      "7                961     961  Braun/Blanquet (B,D&S)         9-9-1991   \n",
      "8                964     964  Braun/Blanquet (B,D&S)         9-9-1991   \n",
      "9                965     965  Braun/Blanquet (B,D&S)         9-9-1991   \n",
      "\n",
      "   Lengte proefvlak (m)  Breedte proefvlak (m)  Opp. proefvlak (m²)  \\\n",
      "0                   2.0                    2.0                  4.0   \n",
      "1                   2.0                    2.0                  4.0   \n",
      "2                   2.0                    2.0                  4.0   \n",
      "3                   5.0                    5.0                 25.0   \n",
      "4                   5.0                    5.0                 25.0   \n",
      "5                   3.0                    3.0                  9.0   \n",
      "6                   3.0                    3.0                  NaN   \n",
      "7                   2.0                    2.0                  NaN   \n",
      "8                   2.0                    2.0                  NaN   \n",
      "9                   2.0                    2.0                  NaN   \n",
      "\n",
      "   Bedekking totaal (%)  Bedekking boomlaag (%)  Bedekking struiklaag (%)  \\\n",
      "0                  70.0                     NaN                       NaN   \n",
      "1                  90.0                     NaN                       NaN   \n",
      "2                  90.0                     NaN                       NaN   \n",
      "3                  95.0                     NaN                       NaN   \n",
      "4                  90.0                     NaN                       NaN   \n",
      "5                  99.0                     NaN                       NaN   \n",
      "6                  90.0                     NaN                       NaN   \n",
      "7                  99.0                     NaN                       NaN   \n",
      "8                  90.0                     NaN                       NaN   \n",
      "9                  99.0                     NaN                       NaN   \n",
      "\n",
      "        ...         Hoogte lage struiklaag (m)  \\\n",
      "0       ...                                NaN   \n",
      "1       ...                                NaN   \n",
      "2       ...                                NaN   \n",
      "3       ...                                NaN   \n",
      "4       ...                                NaN   \n",
      "5       ...                                NaN   \n",
      "6       ...                                NaN   \n",
      "7       ...                                NaN   \n",
      "8       ...                                NaN   \n",
      "9       ...                                NaN   \n",
      "\n",
      "   Gem. hoogte (hoge) kruidl (cm)  Gem. hoogte lage kruidl. (cm)  \\\n",
      "0                             NaN                            NaN   \n",
      "1                             NaN                            NaN   \n",
      "2                             NaN                            NaN   \n",
      "3                             NaN                            NaN   \n",
      "4                             NaN                            NaN   \n",
      "5                             NaN                            NaN   \n",
      "6                             NaN                            NaN   \n",
      "7                             NaN                            NaN   \n",
      "8                             NaN                            NaN   \n",
      "9                             NaN                            NaN   \n",
      "\n",
      "   Maximale hoogte kruidlaag (cm)  \\\n",
      "0                             NaN   \n",
      "1                             NaN   \n",
      "2                             NaN   \n",
      "3                             NaN   \n",
      "4                             NaN   \n",
      "5                             NaN   \n",
      "6                             NaN   \n",
      "7                             NaN   \n",
      "8                             NaN   \n",
      "9                             NaN   \n",
      "\n",
      "                                         Associa (1)  Incompleteness (1)  \\\n",
      "0  r33RG06 - RG Solanum dulcamara-Phragmites aust...                 0.1   \n",
      "1              r08BB04C - Typho-Phragmitetum typicum                 0.3   \n",
      "2              r08BB04C - Typho-Phragmitetum typicum                 0.5   \n",
      "3    r08RG05 - RG Carex acutiformis-[Phragmitetalia]                 0.1   \n",
      "4              r08BB04C - Typho-Phragmitetum typicum                 0.2   \n",
      "5              r08BB04C - Typho-Phragmitetum typicum                 0.2   \n",
      "6              r08BB04C - Typho-Phragmitetum typicum                 0.3   \n",
      "7  r33RG06 - RG Solanum dulcamara-Phragmites aust...                 NaN   \n",
      "8  r33RG06 - RG Solanum dulcamara-Phragmites aust...                 NaN   \n",
      "9              r08BB04C - Typho-Phragmitetum typicum                 NaN   \n",
      "\n",
      "   Longitude   Latitude  Location uncertainty (m)          Dataset  \n",
      "0   4.962352  53.262944                       100  Adviesburos (1)  \n",
      "1   4.944453  53.254792                       100  Adviesburos (1)  \n",
      "2   4.977287  53.268387                       100  Adviesburos (1)  \n",
      "3   5.132136  51.912667                       100  Adviesburos (1)  \n",
      "4   5.678962  51.519783                       100  Adviesburos (1)  \n",
      "5   5.969377  51.869659                        10  Adviesburos (1)  \n",
      "6   5.462315  51.853371                        10  Adviesburos (1)  \n",
      "7   5.254153  51.713910                        10  Adviesburos (1)  \n",
      "8   5.254300  51.713191                        10  Adviesburos (1)  \n",
      "9   5.254301  51.712742                        10  Adviesburos (1)  \n",
      "\n",
      "[10 rows x 25 columns]\n"
     ]
    }
   ],
   "source": [
    "from IPython.display import display, HTML\n",
    "\n",
    "print(header.head(n=10))"
   ]
  },
  {
   "cell_type": "code",
   "execution_count": null,
   "metadata": {
    "collapsed": true
   },
   "outputs": [],
   "source": []
  }
 ],
 "metadata": {
  "kernelspec": {
   "display_name": "Python 3",
   "language": "python",
   "name": "python3"
  },
  "language_info": {
   "codemirror_mode": {
    "name": "ipython",
    "version": 3
   },
   "file_extension": ".py",
   "mimetype": "text/x-python",
   "name": "python",
   "nbconvert_exporter": "python",
   "pygments_lexer": "ipython3",
   "version": "3.6.2"
  }
 },
 "nbformat": 4,
 "nbformat_minor": 1
}
