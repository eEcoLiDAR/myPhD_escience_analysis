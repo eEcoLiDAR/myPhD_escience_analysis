{
 "cells": [
  {
   "cell_type": "code",
   "execution_count": 4,
   "metadata": {},
   "outputs": [],
   "source": [
    "import pandas as pd\n",
    "import matplotlib.pyplot as plt"
   ]
  },
  {
   "cell_type": "code",
   "execution_count": 5,
   "metadata": {
    "collapsed": true
   },
   "outputs": [],
   "source": [
    "filepath=\"C:\\\\zsofia\\\\Amsterdam\\\\GitHub\\\\eecolidar_kzs\\\\Annotation\\\\Data\\\\\"\n",
    "\n",
    "speciestable=pd.read_csv(filepath+'speciestable.csv',sep=';',encoding='latin-1')\n",
    "plottable=pd.read_csv(filepath+'plottable.csv',sep=';',encoding='latin-1')\n",
    "observationtable=pd.read_csv(filepath+'observationtable.csv',sep=';',encoding='latin-1')"
   ]
  },
  {
   "cell_type": "markdown",
   "metadata": {},
   "source": [
    "1.) Introduce filters"
   ]
  },
  {
   "cell_type": "code",
   "execution_count": 1,
   "metadata": {},
   "outputs": [
    {
     "ename": "NameError",
     "evalue": "name 'observationtable' is not defined",
     "traceback": [
      "\u001b[1;31m---------------------------------------------------------------------------\u001b[0m",
      "\u001b[1;31mNameError\u001b[0m                                 Traceback (most recent call last)",
      "\u001b[1;32m<ipython-input-1-f0f103a289a1>\u001b[0m in \u001b[0;36m<module>\u001b[1;34m()\u001b[0m\n\u001b[1;32m----> 1\u001b[1;33m \u001b[0mobservationtable_up2007\u001b[0m\u001b[1;33m=\u001b[0m\u001b[0mobservationtable\u001b[0m\u001b[1;33m[\u001b[0m\u001b[1;33m(\u001b[0m\u001b[0mobservationtable\u001b[0m\u001b[1;33m[\u001b[0m\u001b[1;34m\"year\"\u001b[0m\u001b[1;33m]\u001b[0m\u001b[1;33m>\u001b[0m\u001b[1;36m2007\u001b[0m\u001b[1;33m)\u001b[0m\u001b[1;33m]\u001b[0m\u001b[1;33m\u001b[0m\u001b[0m\n\u001b[0m\u001b[0;32m      2\u001b[0m \u001b[1;33m\u001b[0m\u001b[0m\n\u001b[0;32m      3\u001b[0m \u001b[0mjoined_obsplot\u001b[0m\u001b[1;33m=\u001b[0m\u001b[0mpd\u001b[0m\u001b[1;33m.\u001b[0m\u001b[0mmerge\u001b[0m\u001b[1;33m(\u001b[0m\u001b[0mobservationtable_up2007\u001b[0m\u001b[1;33m,\u001b[0m \u001b[0mplottable\u001b[0m\u001b[1;33m,\u001b[0m \u001b[0mon\u001b[0m\u001b[1;33m=\u001b[0m\u001b[1;34m'polygonID'\u001b[0m\u001b[1;33m,\u001b[0m \u001b[0mhow\u001b[0m\u001b[1;33m=\u001b[0m\u001b[1;34m'left'\u001b[0m\u001b[1;33m)\u001b[0m\u001b[1;33m\u001b[0m\u001b[0m\n\u001b[0;32m      4\u001b[0m \u001b[0mjoined_obsplot\u001b[0m \u001b[1;33m=\u001b[0m \u001b[0mjoined_obsplot\u001b[0m\u001b[1;33m[\u001b[0m\u001b[0mlist\u001b[0m\u001b[1;33m(\u001b[0m\u001b[0mjoined_obsplot\u001b[0m\u001b[1;33m.\u001b[0m\u001b[0mcolumns\u001b[0m\u001b[1;33m[\u001b[0m\u001b[1;33m~\u001b[0m\u001b[0mjoined_obsplot\u001b[0m\u001b[1;33m.\u001b[0m\u001b[0mcolumns\u001b[0m\u001b[1;33m.\u001b[0m\u001b[0mduplicated\u001b[0m\u001b[1;33m(\u001b[0m\u001b[1;33m)\u001b[0m\u001b[1;33m]\u001b[0m\u001b[1;33m)\u001b[0m\u001b[1;33m]\u001b[0m\u001b[1;33m\u001b[0m\u001b[0m\n\u001b[0;32m      5\u001b[0m \u001b[0mjoined_obsplot_forest\u001b[0m\u001b[1;33m=\u001b[0m\u001b[0mjoined_obsplot\u001b[0m\u001b[1;33m[\u001b[0m\u001b[1;33m(\u001b[0m\u001b[0mjoined_obsplot\u001b[0m\u001b[1;33m[\u001b[0m\u001b[1;34m\"habitat\"\u001b[0m\u001b[1;33m]\u001b[0m\u001b[1;33m==\u001b[0m\u001b[1;34m\"Forest\"\u001b[0m\u001b[1;33m)\u001b[0m\u001b[1;33m]\u001b[0m\u001b[1;33m\u001b[0m\u001b[0m\n",
      "\u001b[1;31mNameError\u001b[0m: name 'observationtable' is not defined"
     ],
     "output_type": "error"
    }
   ],
   "source": [
    "observationtable_up2007=observationtable[(observationtable[\"year\"]>2007)]\n",
    "\n",
    "joined_obsplot=pd.merge(observationtable_up2007, plottable, on='polygonID', how='left')\n",
    "joined_obsplot = joined_obsplot[list(joined_obsplot.columns[~joined_obsplot.columns.duplicated()])]\n",
    "joined_obsplot_forest=joined_obsplot[(joined_obsplot[\"habitat\"]==\"Forest\")]\n",
    "\n",
    "joined_db=pd.merge(joined_obsplot_forest, speciestable, on='speciesKey', how='left')\n",
    "joined_db.dtypes\n",
    "\n",
    "joined_db.to_excel(filepath+'joined_db.xlsx',encoding='latin-1',index=False)\n"
   ]
  },
  {
   "cell_type": "markdown",
   "metadata": {},
   "source": [
    "2.) Select specific species and filter based on that"
   ]
  },
  {
   "cell_type": "code",
   "execution_count": 1,
   "metadata": {},
   "outputs": [
    {
     "ename": "NameError",
     "evalue": "name 'joined_db' is not defined",
     "traceback": [
      "\u001b[1;31m---------------------------------------------------------------------------\u001b[0m",
      "\u001b[1;31mNameError\u001b[0m                                 Traceback (most recent call last)",
      "\u001b[1;32m<ipython-input-1-d2ce160c3cbe>\u001b[0m in \u001b[0;36m<module>\u001b[1;34m()\u001b[0m\n\u001b[1;32m----> 1\u001b[1;33m joined_db_betulapendula=joined_db[(joined_db[\"species\"]==\"Pinus sylvestris\") & \n\u001b[0m\u001b[0;32m      2\u001b[0m                                   (joined_db[\"organismQuantity\"]<88) & (joined_db[\"organismQuantity\"]>50)]\n\u001b[0;32m      3\u001b[0m \u001b[1;32mprint\u001b[0m\u001b[1;33m(\u001b[0m\u001b[0mjoined_db_betulapendula\u001b[0m\u001b[1;33m.\u001b[0m\u001b[0mshape\u001b[0m\u001b[1;33m)\u001b[0m\u001b[1;33m\u001b[0m\u001b[0m\n\u001b[0;32m      4\u001b[0m \u001b[1;33m\u001b[0m\u001b[0m\n\u001b[0;32m      5\u001b[0m \u001b[0mjoined_db_betulapendula_all\u001b[0m\u001b[1;33m=\u001b[0m\u001b[0mpd\u001b[0m\u001b[1;33m.\u001b[0m\u001b[0mmerge\u001b[0m\u001b[1;33m(\u001b[0m\u001b[0mjoined_db\u001b[0m\u001b[1;33m,\u001b[0m \u001b[0mjoined_db_betulapendula\u001b[0m\u001b[1;33m[\u001b[0m\u001b[1;33m[\u001b[0m\u001b[1;34m\"polygonID\"\u001b[0m\u001b[1;33m]\u001b[0m\u001b[1;33m]\u001b[0m\u001b[1;33m,\u001b[0m \u001b[0mon\u001b[0m\u001b[1;33m=\u001b[0m\u001b[1;34m'polygonID'\u001b[0m\u001b[1;33m,\u001b[0m \u001b[0mhow\u001b[0m\u001b[1;33m=\u001b[0m\u001b[1;34m'right'\u001b[0m\u001b[1;33m)\u001b[0m\u001b[1;33m\u001b[0m\u001b[0m\n",
      "\u001b[1;31mNameError\u001b[0m: name 'joined_db' is not defined"
     ],
     "output_type": "error"
    }
   ],
   "source": [
    "joined_db_betulapendula=joined_db[(joined_db[\"species\"]==\"Pinus sylvestris\") & \n",
    "                                  (joined_db[\"organismQuantity\"]<88) & (joined_db[\"organismQuantity\"]>50)]\n",
    "print(joined_db_betulapendula.shape)\n",
    "\n",
    "joined_db_betulapendula_all=pd.merge(joined_db, joined_db_betulapendula[[\"polygonID\"]], on='polygonID', how='right')\n",
    "print(joined_db_betulapendula_all.shape)"
   ]
  },
  {
   "cell_type": "code",
   "execution_count": 76,
   "metadata": {},
   "outputs": [],
   "source": [
    "specieslist=joined_db_betulapendula_all.groupby('polygonID')['species'].apply(list).reset_index()\n",
    "coveragelist=joined_db_betulapendula_all.groupby('polygonID')['organismQuantity'].apply(list).reset_index()\n",
    "\n",
    "ForInfoBSc_lists=pd.merge(specieslist, coveragelist, on='polygonID', how='left')\n",
    "\n",
    "ForInfoBSc_betulapendula=pd.merge(ForInfoBSc_lists, plottable[['polygonID','footprintWKT']], on='polygonID', how='left')\n",
    "\n",
    "ForInfoBSc_betulapendula.to_csv(filepath+'ForInfoBSc_pinussylvestris_5088.csv',sep=\";\",index=False)"
   ]
  },
  {
   "cell_type": "markdown",
   "metadata": {},
   "source": [
    "Print out the species composition of a selected plot"
   ]
  },
  {
   "cell_type": "code",
   "execution_count": 34,
   "metadata": {},
   "outputs": [
    {
     "data": {
      "image/png": "[encoded data removed]",
      "text/plain": [
       "<matplotlib.figure.Figure at 0x1931c4200f0>"
      ]
     },
     "metadata": {},
     "output_type": "display_data"
    },
    {
     "data": {
      "text/plain": [
       "polygonID                          int64\neventID                           object\nspeciesKey                        object\nyear                               int64\nmonth                              int64\nday                                int64\neventDate                         object\norganismQuantity                 float64\norganismQuantityType              object\nfootprintWKT                      object\ndecimalLatitude                  float64\ndecimalLongitude                 float64\ncoordinateUncertaintyInMeters    float64\nhabitat                           object\nsamplingProtocol                  object\nsampleSizeUnit                    object\npolyarea                         float64\nkingdom                           object\nphylum                            object\nclass                             object\norder                             object\nfamily                            object\ngenus                             object\nspecificEpithet                   object\nvernacularName                    object\ndtype: object"
      ]
     },
     "execution_count": 34,
     "metadata": {},
     "output_type": "execute_result"
    }
   ],
   "source": [
    "ID=21139\n",
    "\n",
    "selID=joined_db[(joined_db[\"polygonID\"]==ID)]\n",
    "\n",
    "selID.set_index([\"species\"],inplace=True)\n",
    "\n",
    "selID[\"organismQuantity\"].plot.barh(stacked=True)\n",
    "plt.xlabel('Percentage Coverage [%]')\n",
    "plt.title('ID:'+str(ID)+'; Sampling method:'+str(selID['samplingProtocol'].unique()))\n",
    "plt.show()\n",
    "\n",
    "selID.dtypes"
   ]
  },
  {
   "cell_type": "code",
   "execution_count": 32,
   "metadata": {},
   "outputs": [],
   "source": [
    ""
   ]
  },
  {
   "cell_type": "code",
   "execution_count": null,
   "metadata": {},
   "outputs": [],
   "source": []
  }
 ],
 "metadata": {
  "kernelspec": {
   "display_name": "Python 2",
   "language": "python",
   "name": "python2"
  },
  "language_info": {
   "codemirror_mode": {
    "name": "ipython",
    "version": 2
   },
   "file_extension": ".py",
   "mimetype": "text/x-python",
   "name": "python",
   "nbconvert_exporter": "python",
   "pygments_lexer": "ipython2",
   "version": "2.7.6"
  }
 },
 "nbformat": 4,
 "nbformat_minor": 0
}
