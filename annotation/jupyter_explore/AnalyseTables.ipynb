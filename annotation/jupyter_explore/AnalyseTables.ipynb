{
 "cells": [
  {
   "cell_type": "code",
   "execution_count": 1,
   "metadata": {
    "collapsed": true
   },
   "outputs": [
    {
     "data": {
      "text/plain": [
       "plotID                int64\ndecimalLatitude     float64\ndecimalLongitude    float64\nfootprintWKT         object\nhabitat              object\nsamplingProtocol     object\nsampleSizeValue     float64\nsampleSizeUnit       object\ndtype: object"
      ]
     },
     "execution_count": 1,
     "metadata": {},
     "output_type": "execute_result"
    }
   ],
   "source": [
    "import pandas as pd\n",
    "\n",
    "plotdb=pd.read_csv(\"C:\\\\zsofia\\\\Amsterdam\\\\GitHub\\\\ecolidar\\\\WetLand\\\\Data\\\\0001262-171020152545675_from2000NL\\\\output\\\\outputPlotTable.csv\",sep=';')\n",
    "plotdb.dtypes"
   ]
  },
  {
   "cell_type": "code",
   "execution_count": 12,
   "metadata": {},
   "outputs": [
    {
     "data": {
      "image/png": "[encoded data removed]",
      "text/plain": [
       "<matplotlib.figure.Figure at 0x1ad624394a8>"
      ]
     },
     "metadata": {},
     "output_type": "display_data"
    }
   ],
   "source": [
    "import matplotlib.pyplot as plt\n",
    "plotdb['sampleSizeValue'].plot.box()\n",
    "plt.ylim(0,100)\n",
    "plt.show()"
   ]
  },
  {
   "cell_type": "code",
   "execution_count": 14,
   "metadata": {},
   "outputs": [
    {
     "name": "stdout",
     "output_type": "stream",
     "text": [
      "(76905, 8)\n(8465, 8)\n"
     ]
    }
   ],
   "source": [
    "print(plotdb[(plotdb[\"sampleSizeValue\"]<100)].shape)\n",
    "print(plotdb[(plotdb[\"sampleSizeValue\"]>100)].shape)"
   ]
  },
  {
   "cell_type": "code",
   "execution_count": null,
   "metadata": {},
   "outputs": [],
   "source": []
  }
 ],
 "metadata": {
  "kernelspec": {
   "display_name": "Python 2",
   "language": "python",
   "name": "python2"
  },
  "language_info": {
   "codemirror_mode": {
    "name": "ipython",
    "version": 2
   },
   "file_extension": ".py",
   "mimetype": "text/x-python",
   "name": "python",
   "nbconvert_exporter": "python",
   "pygments_lexer": "ipython2",
   "version": "2.7.6"
  }
 },
 "nbformat": 4,
 "nbformat_minor": 0
}
