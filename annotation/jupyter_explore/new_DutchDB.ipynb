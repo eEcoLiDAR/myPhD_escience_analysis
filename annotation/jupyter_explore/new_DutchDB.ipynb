{
 "cells": [
  {
   "cell_type": "markdown",
   "metadata": {},
   "source": [
    "Read the data and create shapefiles with extra attributes"
   ]
  },
  {
   "cell_type": "code",
   "execution_count": 1,
   "metadata": {
    "collapsed": true
   },
   "outputs": [],
   "source": [
    "import pandas as pd\n",
    "import numpy as np\n",
    "\n",
    "import geopandas as gpd\n",
    "from shapely.geometry import Point\n",
    "from geopandas import GeoSeries, GeoDataFrame\n",
    "\n",
    "filepath=\"C:\\\\zsofia\\\\Amsterdam\\\\GitHub\\\\eEcoLiDAR\\\\myPhD_annotation\\\\Data\\\\\"\n",
    "\n",
    "header=pd.read_csv(filepath+'Phragmites_australis_header.csv',sep='\\t')\n",
    "species=pd.read_csv(filepath+'Phragmites_australis_species.csv',sep='\\t')"
   ]
  },
  {
   "cell_type": "markdown",
   "metadata": {},
   "source": [
    "- Convert species info into one line information"
   ]
  },
  {
   "cell_type": "code",
   "execution_count": 2,
   "metadata": {},
   "outputs": [],
   "source": [
    "SpeciesGroups=species.groupby(\"PlotObservationID\")[\"Species name\"].apply(' '.join).reset_index()\n",
    "LayerGroups=species.groupby(\"PlotObservationID\")[\"Layer\"].apply(lambda x: ', '.join(x.astype(str))).reset_index()\n",
    "CoverGroups=species.groupby(\"PlotObservationID\")[\"Cover %\"].apply(lambda x: ', '.join(x.astype(str))).reset_index()\n",
    "CoverCodeGroups=species.groupby(\"PlotObservationID\")[\"Cover code\"].apply(lambda x: ', '.join(x.astype(str))).reset_index()"
   ]
  },
  {
   "cell_type": "code",
   "execution_count": 3,
   "metadata": {},
   "outputs": [
    {
     "data": {
      "text/plain": [
       "PlotObservationID                   int64\nPlotID                              int64\nBedekkingsschaal                   object\nDatum van opname                   object\nLengte proefvlak (m)              float64\nBreedte proefvlak (m)             float64\nOpp. proefvlak (m²)               float64\nBedekking totaal (%)              float64\nBedekking boomlaag (%)            float64\nBedekking struiklaag (%)          float64\nBedekking kruidlaag (%)           float64\nBedekking moslaag (%)             float64\nHoogte (hoge) boomlaag (m)        float64\nHoogte lage boomlaag (m)          float64\nHoogte (hoge) struiklaag (m)      float64\nHoogte lage struiklaag (m)        float64\nGem. hoogte (hoge) kruidl (cm)    float64\nGem. hoogte lage kruidl. (cm)     float64\nMaximale hoogte kruidlaag (cm)    float64\nAssocia (1)                        object\nIncompleteness (1)                float64\nLongitude                         float64\nLatitude                          float64\nLocation uncertainty (m)            int64\nDataset                            object\nSpecies name                       object\nLayer                              object\nCover %                            object\nCover code                         object\ndtype: object"
      ]
     },
     "execution_count": 3,
     "metadata": {},
     "output_type": "execute_result"
    }
   ],
   "source": [
    "JoinedTable=pd.merge(header,SpeciesGroups,on=\"PlotObservationID\",how=\"left\")\n",
    "JoinedTable2=pd.merge(JoinedTable,LayerGroups,on=\"PlotObservationID\",how=\"left\")\n",
    "JoinedTable3=pd.merge(JoinedTable2,CoverGroups,on=\"PlotObservationID\",how=\"left\")\n",
    "JoinedTable4=pd.merge(JoinedTable3,CoverCodeGroups,on=\"PlotObservationID\",how=\"left\")\n",
    "\n",
    "JoinedTable4.dtypes"
   ]
  },
  {
   "cell_type": "markdown",
   "metadata": {},
   "source": [
    "- Convert into polygon"
   ]
  },
  {
   "cell_type": "code",
   "execution_count": 4,
   "metadata": {},
   "outputs": [],
   "source": [
    "geometry = [Point(xy) for xy in zip(JoinedTable4['Longitude'], JoinedTable4['Latitude'])]\n",
    "crs = {'init': 'epsg:4326'}\n",
    "geovegdb_dataframe = GeoDataFrame(JoinedTable4[[\"Species name\",\"Datum van opname\"]], crs=crs, geometry=geometry)\n",
    "geovegdb_dataframe.to_file(filepath+\"Phragmites_australis.shp\", driver='ESRI Shapefile')"
   ]
  },
  {
   "cell_type": "code",
   "execution_count": null,
   "metadata": {
    "collapsed": true
   },
   "outputs": [],
   "source": []
  }
 ],
 "metadata": {
  "kernelspec": {
   "display_name": "Python 2",
   "language": "python",
   "name": "python2"
  },
  "language_info": {
   "codemirror_mode": {
    "name": "ipython",
    "version": 2
   },
   "file_extension": ".py",
   "mimetype": "text/x-python",
   "name": "python",
   "nbconvert_exporter": "python",
   "pygments_lexer": "ipython2",
   "version": "2.7.14"
  }
 },
 "nbformat": 4,
 "nbformat_minor": 2
}
