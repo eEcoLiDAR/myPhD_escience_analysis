{
 "cells": [
  {
   "cell_type": "markdown",
   "metadata": {},
   "source": [
    "# Convert ply to raster"
   ]
  },
  {
   "cell_type": "code",
   "execution_count": 27,
   "metadata": {},
   "outputs": [],
   "source": [
    "library(\"raster\")\n",
    "library(\"maptools\")\n",
    "library(\"data.table\")\n",
    "\n",
    "library(\"lidR\")\n",
    "\n",
    "library(\"e1071\")"
   ]
  },
  {
   "cell_type": "code",
   "execution_count": 28,
   "metadata": {},
   "outputs": [],
   "source": [
    "# global variables\n",
    "\n",
    "workingdirectory=\"D:/Koma/escience/test_escience_2018Nov/exampledata/\"\n",
    "filename=\"tile_00005\"\n",
    "\n",
    "setwd(workingdirectory)"
   ]
  },
  {
   "cell_type": "code",
   "execution_count": 29,
   "metadata": {},
   "outputs": [
    {
     "name": "stdout",
     "output_type": "stream",
     "text": [
      "Time difference of 0.9669409 secs\n"
     ]
    }
   ],
   "source": [
    "start_time <- Sys.time()\n",
    "\n",
    "pc_fea = fread(paste(filename ,\"_cell_1m.ply\",sep=\"\"), header = F, sep = ' ',skip=31)\n",
    "#print(head(pc_fea))\n",
    "\n",
    "pc_fea_var_z <- rasterFromXYZ(pc_fea[,c(1,2,18)])\n",
    "writeRaster(pc_fea_var_z, paste(filename,\"_var_z.tif\",sep=\"\"),overwrite=TRUE)\n",
    "\n",
    "end_time <- Sys.time()\n",
    "print(end_time - start_time)"
   ]
  }
 ],
 "metadata": {
  "kernelspec": {
   "display_name": "R",
   "language": "R",
   "name": "ir"
  },
  "language_info": {
   "codemirror_mode": "r",
   "file_extension": ".r",
   "mimetype": "text/x-r-source",
   "name": "R",
   "pygments_lexer": "r",
   "version": "3.5.1"
  }
 },
 "nbformat": 4,
 "nbformat_minor": 2
}
