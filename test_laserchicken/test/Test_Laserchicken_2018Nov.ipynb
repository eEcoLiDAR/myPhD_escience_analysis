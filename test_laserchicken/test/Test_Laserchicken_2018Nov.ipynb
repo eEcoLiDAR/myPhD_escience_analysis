{
 "cells": [
  {
   "cell_type": "markdown",
   "metadata": {},
   "source": [
    "# Generating target points"
   ]
  },
  {
   "cell_type": "code",
   "execution_count": 10,
   "metadata": {},
   "outputs": [],
   "source": [
    "import os\n",
    "import sys\n",
    "import time\n",
    "\n",
    "import laspy\n",
    "from laspy.file import File\n",
    "\n",
    "import numpy as np"
   ]
  },
  {
   "cell_type": "code",
   "execution_count": 12,
   "metadata": {},
   "outputs": [],
   "source": [
    "# global variables\n",
    "\n",
    "workingdirectory=\"D:/Koma/escience/test_escience_2018Nov/exampledata/\"\n",
    "filename=\"tile_00005_subset\""
   ]
  },
  {
   "cell_type": "code",
   "execution_count": 5,
   "metadata": {},
   "outputs": [
    {
     "name": "stdout",
     "output_type": "stream",
     "text": [
      "Number of points are: 295768\n"
     ]
    }
   ],
   "source": [
    "# read las file\n",
    "\n",
    "in_pc = File(workingdirectory+filename+\".las\", mode='r')\n",
    "in_pc_nparray = np.vstack([in_pc.x, in_pc.y, in_pc.z]).transpose()\n",
    "\n",
    "print((\"Number of points are: %s\") % (in_pc_nparray.shape[0]))\n",
    "\n",
    "# generate grid in 2D z==0 (for 2.5D analysis within cylinder)\n",
    "\n",
    "min_x=np.min(in_pc_nparray[:,0])\n",
    "max_x=np.max(in_pc_nparray[:,0])\n",
    "step_x=1\n",
    "\n",
    "min_y=np.min(in_pc_nparray[:,1])\n",
    "max_y=np.max(in_pc_nparray[:,1])\n",
    "step_y=1\n",
    "\n",
    "bound_x = np.arange(min_x, max_x, step_x)\n",
    "bound_y = np.arange(min_y, max_y, step_y)\n",
    "\n",
    "target_x, target_y = np.meshgrid(bound_x, bound_y, indexing='ij')\n",
    "\n",
    "# export as XYZ pcloud\n",
    "\n",
    "x=np.ravel(target_x)\n",
    "y=np.ravel(target_y)\n",
    "z=np.ones(len(x))\n",
    "\n",
    "false_intensity=np.zeros(len(x))\n",
    "\n",
    "out_LAS = File(workingdirectory+filename+\"_target.las\", mode = \"w\", header = in_pc.header)\n",
    "out_LAS.x = x\n",
    "out_LAS.y = y\n",
    "out_LAS.z = z\n",
    "out_LAS.intensity = false_intensity\n",
    "out_LAS.close()"
   ]
  },
  {
   "cell_type": "markdown",
   "metadata": {},
   "source": [
    "# Development branch test - raster"
   ]
  },
  {
   "cell_type": "code",
   "execution_count": 2,
   "metadata": {},
   "outputs": [],
   "source": [
    "sys.path.insert(0, \"D:/GitHub/eEcoLiDAR/develop-branch/eEcoLiDAR/\")\n",
    "\n",
    "from laserchicken import read_las\n",
    "from laserchicken.keys import point\n",
    "from laserchicken.volume_specification import Cell\n",
    "from laserchicken.compute_neighbors import compute_neighborhoods\n",
    "from laserchicken.feature_extractor import compute_features\n",
    "from laserchicken.write_ply import write"
   ]
  },
  {
   "cell_type": "code",
   "execution_count": 16,
   "metadata": {},
   "outputs": [
    {
     "name": "stdout",
     "output_type": "stream",
     "text": [
      "------ Import is started ------\n",
      "Number of points: 295768 \n",
      "Number of points in target: 27342 \n",
      "------ Computing neighborhood is started ------\n",
      "Cylinder size in Bytes: 171794852.66890427\n",
      "Memory size in Bytes: 17056247808\n",
      "Start tree creation\n",
      "Done with env tree creation\n",
      "Done with target tree creation\n",
      "build kd-tree: 1.008809 sec\n",
      "Computed neighborhoods list length at iteration 0 is: 27342\n",
      "------ Feature calculation is started ------\n",
      "Feature \"eigenv_3\"\n",
      "Number of targets: 27342, number of features: 3\n",
      " took 3.26 seconds\n",
      "Feature \"kurto_z\"\n",
      "Number of targets: 27342, number of features: 1\n",
      " took 2.98 seconds\n",
      "Feature \"skew_z\"\n",
      "Number of targets: 27342, number of features: 1\n",
      " took 4.00 seconds\n",
      "Feature \"coeff_var_z\"\n",
      "Number of targets: 27342, number of features: 3\n"
     ]
    },
    {
     "name": "stderr",
     "output_type": "stream",
     "text": [
      "D:/GitHub/eEcoLiDAR/develop-branch/eEcoLiDAR\\laserchicken\\feature_extractor\\mean_std_coeff_z_feature_extractor.py:23: RuntimeWarning: divide by zero encountered in double_scalars\n",
      "  coeff_var_z = std_z / mean_z\n"
     ]
    },
    {
     "name": "stdout",
     "output_type": "stream",
     "text": [
      " took 0.92 seconds\n",
      "Feature \"var_z\"\n"
     ]
    },
    {
     "name": "stderr",
     "output_type": "stream",
     "text": [
      "D:/GitHub/eEcoLiDAR/develop-branch/eEcoLiDAR\\laserchicken\\feature_extractor\\mean_std_coeff_z_feature_extractor.py:23: RuntimeWarning: invalid value encountered in double_scalars\n",
      "  coeff_var_z = std_z / mean_z\n"
     ]
    },
    {
     "name": "stdout",
     "output_type": "stream",
     "text": [
      "Number of targets: 27342, number of features: 1\n",
      " took 0.64 seconds\n",
      "Feature \"median_z\"\n",
      "Number of targets: 27342, number of features: 1\n",
      " took 1.02 seconds\n",
      "Feature \"min_z\"\n",
      "Number of targets: 27342, number of features: 3\n",
      " took 0.36 seconds\n",
      "The following unrequested features were calculated as a side effect, but will not be returned: ['range_z']\n",
      "feature calc: 13.206480 sec\n"
     ]
    }
   ],
   "source": [
    "print(\"------ Import is started ------\")\n",
    "\n",
    "pc = read_las.read(workingdirectory+filename+\".las\")\n",
    "target = read_las.read(workingdirectory+filename+\"_target.las\")\n",
    "radius=1\n",
    "\n",
    "print((\"Number of points: %s \") % (pc[point]['x']['data'].shape[0]))\n",
    "print((\"Number of points in target: %s \") % (target[point]['x']['data'].shape[0]))\n",
    "\n",
    "print(\"------ Computing neighborhood is started ------\")\n",
    "\n",
    "start = time.time()\n",
    "\n",
    "#compute_neighborhoods is now a generator. To get the result of a generator the user\n",
    "#needs to call next(compute_neighborhoods). The following shows how to get the results.\n",
    "#\n",
    "#indices_cyl=compute_neighborhoods(pc, target, Cell(np.float(args.radius)))\n",
    "#\n",
    "neighbors=compute_neighborhoods(pc, target, Cell(np.float(radius)))\n",
    "iteration=0\n",
    "target_idx_base=0\n",
    "for x in neighbors:\n",
    "    end = time.time()\n",
    "    difftime=end - start\n",
    "    print((\"build kd-tree: %f sec\") % (difftime))\n",
    "    print(\"Computed neighborhoods list length at iteration %d is: %d\" % (iteration,len(x)))\n",
    "\n",
    "    start1 = time.time()\n",
    "    print(\"------ Feature calculation is started ------\")\n",
    "    compute_features(pc, x, target_idx_base, target, ['max_z','min_z','mean_z','median_z','std_z','var_z','coeff_var_z','skew_z','kurto_z','eigenv_1','eigenv_2','eigenv_3'], Cell(np.float(radius)))\n",
    "    target_idx_base+=len(x)\n",
    "    end1 = time.time()\n",
    "    difftime1=end1 - start1\n",
    "    print((\"feature calc: %f sec\") % (difftime1))\n",
    "    iteration+=1\n",
    "\n",
    "\n",
    "write(target,workingdirectory+filename+\"_cell_1m.ply\")"
   ]
  },
  {
   "cell_type": "code",
   "execution_count": null,
   "metadata": {},
   "outputs": [],
   "source": []
  }
 ],
 "metadata": {
  "kernelspec": {
   "display_name": "Python 3",
   "language": "python",
   "name": "python3"
  },
  "language_info": {
   "codemirror_mode": {
    "name": "ipython",
    "version": 3
   },
   "file_extension": ".py",
   "mimetype": "text/x-python",
   "name": "python",
   "nbconvert_exporter": "python",
   "pygments_lexer": "ipython3",
   "version": "3.6.0"
  }
 },
 "nbformat": 4,
 "nbformat_minor": 2
}
