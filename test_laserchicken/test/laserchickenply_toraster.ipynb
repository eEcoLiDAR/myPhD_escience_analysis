{
 "cells": [
  {
   "cell_type": "markdown",
   "metadata": {},
   "source": [
    "# Convert ply to raster"
   ]
  },
  {
   "cell_type": "code",
   "execution_count": 18,
   "metadata": {},
   "outputs": [
    {
     "name": "stderr",
     "output_type": "stream",
     "text": [
      "\n",
      "Attaching package: 'e1071'\n",
      "\n",
      "The following object is masked from 'package:raster':\n",
      "\n",
      "    interpolate\n",
      "\n"
     ]
    }
   ],
   "source": [
    "library(\"raster\")\n",
    "library(\"maptools\")\n",
    "library(\"data.table\")\n",
    "\n",
    "library(\"lidR\")\n",
    "\n",
    "library(\"e1071\")"
   ]
  },
  {
   "cell_type": "code",
   "execution_count": 3,
   "metadata": {},
   "outputs": [],
   "source": [
    "# global variables\n",
    "\n",
    "workingdirectory=\"D:/Koma/escience/test_escience_2018Nov/exampledata/\"\n",
    "filename=\"tile_00005_subset\"\n",
    "\n",
    "setwd(workingdirectory)"
   ]
  },
  {
   "cell_type": "code",
   "execution_count": 10,
   "metadata": {},
   "outputs": [
    {
     "name": "stdout",
     "output_type": "stream",
     "text": [
      "Time difference of 0.117882 secs\n"
     ]
    }
   ],
   "source": [
    "start_time <- Sys.time()\n",
    "\n",
    "pc_fea = fread(paste(filename ,\"_cell_1m.ply\",sep=\"\"), header = F, sep = ' ',skip=31)\n",
    "#print(head(pc_fea))\n",
    "\n",
    "pc_fea_var_z <- rasterFromXYZ(pc_fea[,c(1,2,18)])\n",
    "writeRaster(pc_fea_var_z, paste(filename,\"_var_z.tif\",sep=\"\"),overwrite=TRUE)\n",
    "\n",
    "end_time <- Sys.time()\n",
    "print(end_time - start_time)"
   ]
  },
  {
   "cell_type": "markdown",
   "metadata": {},
   "source": [
    "# Same with LiDR"
   ]
  },
  {
   "cell_type": "code",
   "execution_count": 21,
   "metadata": {},
   "outputs": [
    {
     "name": "stderr",
     "output_type": "stream",
     "text": [
      "169886 points below 0 found.\n",
      "127813 unclassified points found.\n",
      "Warning message:\n",
      "\"Invalid file: some points are outside the bounding box defined by the header\"Warning message:\n",
      "\"Invalid file: some points are outside the elevation range defined by the header\""
     ]
    },
    {
     "name": "stdout",
     "output_type": "stream",
     "text": [
      "Time difference of 11.8624 secs\n"
     ]
    }
   ],
   "source": [
    "start_time <- Sys.time()\n",
    "\n",
    "las = readLAS(paste(filename,\".las\",sep=\"\"))\n",
    "\n",
    "HeightMetrics = function(z)\n",
    "{\n",
    "  heightmetrics = list(\n",
    "    zmax = max(z), \n",
    "    zmean = mean(z),\n",
    "    zmedian = median(z),\n",
    "    zmin = min(z),\n",
    "    zstd = sd(z),\n",
    "    zvar = var(z),\n",
    "    zcoeffvar = sd(z)/mean(z),\n",
    "    zskew = skewness(z),\n",
    "    zkurto = kurtosis(z)\n",
    "  )\n",
    "  return(heightmetrics)\n",
    "}\n",
    "\n",
    "ShapeMetrics = function(X,Y,Z)\n",
    "{\n",
    "  xyz=rbind(X,Y,Z) \n",
    "  cov_m=cov(xyz)\n",
    "  eigen_m=eigen(cov_m)\n",
    "  \n",
    "  shapemetrics = list(\n",
    "    eigen_largest = eigen_m$values[1],\n",
    "    eigen_medium = eigen_m$values[2],\n",
    "    eigen_smallest = eigen_m$values[3]\n",
    "  )\n",
    "  return(shapemetrics)\n",
    "}\n",
    "\n",
    "heightmetrics = grid_metrics(las, HeightMetrics(Z),res=1)\n",
    "shapemetrics = grid_metrics(las, ShapeMetrics(X,Y,Z),res=1)\n",
    "\n",
    "var_z_r <- rasterFromXYZ(heightmetrics[,c(1,2,6)])\n",
    "writeRaster(var_z_r, paste(filename,\"_var_z_LiDR.tif\",sep=\"\"),overwrite=TRUE)\n",
    "\n",
    "end_time <- Sys.time()\n",
    "print(end_time - start_time)"
   ]
  },
  {
   "cell_type": "code",
   "execution_count": null,
   "metadata": {},
   "outputs": [],
   "source": []
  }
 ],
 "metadata": {
  "kernelspec": {
   "display_name": "R",
   "language": "R",
   "name": "ir"
  },
  "language_info": {
   "codemirror_mode": "r",
   "file_extension": ".r",
   "mimetype": "text/x-r-source",
   "name": "R",
   "pygments_lexer": "r",
   "version": "3.5.1"
  }
 },
 "nbformat": 4,
 "nbformat_minor": 2
}
