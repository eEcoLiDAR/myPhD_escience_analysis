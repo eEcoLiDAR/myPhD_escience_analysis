{
 "cells": [
  {
   "cell_type": "markdown",
   "metadata": {},
   "source": [
    "# Convert ply to raster"
   ]
  },
  {
   "cell_type": "code",
   "execution_count": 11,
   "metadata": {},
   "outputs": [
    {
     "name": "stderr",
     "output_type": "stream",
     "text": [
      "\n",
      "Attaching package: 'lidR'\n",
      "\n",
      "The following object is masked from 'package:raster':\n",
      "\n",
      "    buffer\n",
      "\n"
     ]
    }
   ],
   "source": [
    "library(\"raster\")\n",
    "library(\"maptools\")\n",
    "library(\"data.table\")\n",
    "\n",
    "library(\"lidR\")"
   ]
  },
  {
   "cell_type": "code",
   "execution_count": 3,
   "metadata": {},
   "outputs": [],
   "source": [
    "# global variables\n",
    "\n",
    "workingdirectory=\"D:/Koma/escience/test_escience_2018Nov/exampledata/\"\n",
    "filename=\"tile_00005_subset\"\n",
    "\n",
    "setwd(workingdirectory)"
   ]
  },
  {
   "cell_type": "code",
   "execution_count": 10,
   "metadata": {},
   "outputs": [
    {
     "name": "stdout",
     "output_type": "stream",
     "text": [
      "Time difference of 0.117882 secs\n"
     ]
    }
   ],
   "source": [
    "start_time <- Sys.time()\n",
    "\n",
    "pc_fea = fread(paste(filename ,\"_cell_1m.ply\",sep=\"\"), header = F, sep = ' ',skip=31)\n",
    "#print(head(pc_fea))\n",
    "\n",
    "pc_fea_var_z <- rasterFromXYZ(pc_fea[,c(1,2,18)])\n",
    "writeRaster(pc_fea_var_z, paste(filename,\"_var_z.tif\",sep=\"\"),overwrite=TRUE)\n",
    "\n",
    "end_time <- Sys.time()\n",
    "print(end_time - start_time)"
   ]
  },
  {
   "cell_type": "markdown",
   "metadata": {},
   "source": [
    "# Same with LiDR"
   ]
  },
  {
   "cell_type": "code",
   "execution_count": 16,
   "metadata": {},
   "outputs": [
    {
     "name": "stderr",
     "output_type": "stream",
     "text": [
      "169886 points below 0 found.\n",
      "127813 unclassified points found.\n",
      "Warning message:\n",
      "\"Invalid file: some points are outside the bounding box defined by the header\"Warning message:\n",
      "\"Invalid file: some points are outside the elevation range defined by the header\""
     ]
    },
    {
     "name": "stdout",
     "output_type": "stream",
     "text": [
      "Time difference of 1.282117 secs\n"
     ]
    }
   ],
   "source": [
    "start_time <- Sys.time()\n",
    "\n",
    "las = readLAS(paste(filename,\".las\",sep=\"\"))\n",
    "\n",
    "var_z = grid_metrics(las, var(Z) ,res=1)\n",
    "#plot(var_z)\n",
    "\n",
    "var_z_r <- rasterFromXYZ(var_z[,c(1,2,3)])\n",
    "writeRaster(var_z_r, paste(filename,\"_var_z_LiDR.tif\",sep=\"\"),overwrite=TRUE)\n",
    "\n",
    "end_time <- Sys.time()\n",
    "print(end_time - start_time)"
   ]
  },
  {
   "cell_type": "code",
   "execution_count": null,
   "metadata": {},
   "outputs": [],
   "source": []
  }
 ],
 "metadata": {
  "kernelspec": {
   "display_name": "R",
   "language": "R",
   "name": "ir"
  },
  "language_info": {
   "codemirror_mode": "r",
   "file_extension": ".r",
   "mimetype": "text/x-r-source",
   "name": "R",
   "pygments_lexer": "r",
   "version": "3.5.1"
  }
 },
 "nbformat": 4,
 "nbformat_minor": 2
}
