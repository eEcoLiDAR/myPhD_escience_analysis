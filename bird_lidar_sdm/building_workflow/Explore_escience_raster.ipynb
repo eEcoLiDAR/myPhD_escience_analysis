{
 "cells": [
  {
   "cell_type": "markdown",
   "metadata": {},
   "source": [
    "# Explore laserchicken output for the Global Ecology and Biodiversity course\n",
    "\n",
    "Resulted file:\n",
    "- geotiff\n",
    "- 100 m resolution\n",
    "- LiDAR metrics based on Classification == 1 -- unclassified category (by ASPRS standard)"
   ]
  },
  {
   "cell_type": "code",
   "execution_count": null,
   "metadata": {},
   "outputs": [],
   "source": []
  }
 ],
 "metadata": {
  "kernelspec": {
   "display_name": "R",
   "language": "R",
   "name": "ir"
  },
  "language_info": {
   "codemirror_mode": "r",
   "file_extension": ".r",
   "mimetype": "text/x-r-source",
   "name": "R",
   "pygments_lexer": "r",
   "version": "3.5.1"
  }
 },
 "nbformat": 4,
 "nbformat_minor": 2
}
